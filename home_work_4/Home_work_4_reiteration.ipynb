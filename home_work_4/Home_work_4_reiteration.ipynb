{
 "cells": [
  {
   "cell_type": "code",
   "execution_count": 1,
   "metadata": {},
   "outputs": [],
   "source": [
    "import numpy as np\n",
    "import pandas as pd\n",
    "from matplotlib import pyplot as plt"
   ]
  },
  {
   "cell_type": "markdown",
   "metadata": {},
   "source": [
    "Задание № 1"
   ]
  },
  {
   "cell_type": "code",
   "execution_count": 5,
   "metadata": {},
   "outputs": [
    {
     "data": {
      "text/plain": [
       "array([12, 13, 14, 15, 16, 17, 18, 19, 20, 21, 22, 23])"
      ]
     },
     "execution_count": 5,
     "metadata": {},
     "output_type": "execute_result"
    }
   ],
   "source": [
    "a = np.arange(12,24)\n",
    "a\n"
   ]
  },
  {
   "cell_type": "markdown",
   "metadata": {},
   "source": [
    "Задание № 2"
   ]
  },
  {
   "cell_type": "code",
   "execution_count": 26,
   "metadata": {},
   "outputs": [
    {
     "name": "stdout",
     "output_type": "stream",
     "text": [
      "[[12 13]\n",
      " [14 15]\n",
      " [16 17]\n",
      " [18 19]\n",
      " [20 21]\n",
      " [22 23]] \n",
      "\n",
      " [[12 13 14]\n",
      " [15 16 17]\n",
      " [18 19 20]\n",
      " [21 22 23]] \n",
      "\n",
      " [[12 13 14 15]\n",
      " [16 17 18 19]\n",
      " [20 21 22 23]] \n",
      "\n",
      " [[12]\n",
      " [13]\n",
      " [14]\n",
      " [15]\n",
      " [16]\n",
      " [17]\n",
      " [18]\n",
      " [19]\n",
      " [20]\n",
      " [21]\n",
      " [22]\n",
      " [23]] \n",
      "\n",
      " [[12 13 14 15 16 17]\n",
      " [18 19 20 21 22 23]]\n"
     ]
    }
   ],
   "source": [
    "b1 = a.reshape(6,2)\n",
    "b2 = a.reshape(4,3)\n",
    "b3 = a.reshape(3,4)\n",
    "b4 = a.reshape(12,1)\n",
    "b5 = a.reshape(2, 6)\n",
    "print(b1,'\\n\\n' ,b2, '\\n\\n', b3, '\\n\\n', b4, '\\n\\n', b5)"
   ]
  },
  {
   "cell_type": "markdown",
   "metadata": {},
   "source": [
    "Задание № 3"
   ]
  },
  {
   "cell_type": "code",
   "execution_count": 42,
   "metadata": {},
   "outputs": [
    {
     "name": "stdout",
     "output_type": "stream",
     "text": [
      "[[12 13 14 15 16 17]\n",
      " [18 19 20 21 22 23]] \n",
      "\n",
      " [[12 13 14 15]\n",
      " [16 17 18 19]\n",
      " [20 21 22 23]] \n",
      "\n",
      " [[12 13]\n",
      " [14 15]\n",
      " [16 17]\n",
      " [18 19]\n",
      " [20 21]\n",
      " [22 23]] \n",
      "\n",
      " [[12 13 14 15]\n",
      " [16 17 18 19]\n",
      " [20 21 22 23]] \n",
      "\n",
      " [[12]\n",
      " [13]\n",
      " [14]\n",
      " [15]\n",
      " [16]\n",
      " [17]\n",
      " [18]\n",
      " [19]\n",
      " [20]\n",
      " [21]\n",
      " [22]\n",
      " [23]] \n",
      "\n",
      " [[12 13]\n",
      " [14 15]\n",
      " [16 17]\n",
      " [18 19]\n",
      " [20 21]\n",
      " [22 23]]\n"
     ]
    }
   ],
   "source": [
    "c1 = a.reshape(-1,6)\n",
    "c2 = a.reshape(-1, 4)\n",
    "c3 = a.reshape(-1, 2)\n",
    "c4 = a.reshape(3, -1)\n",
    "c5 = a.reshape(12, -1)\n",
    "c6 = a.reshape(6, -1)\n",
    "print(c1, '\\n\\n', c2, '\\n\\n', c3, '\\n\\n', c4, '\\n\\n', c5, '\\n\\n', c6)"
   ]
  },
  {
   "cell_type": "markdown",
   "metadata": {},
   "source": [
    "Задание №4"
   ]
  },
  {
   "cell_type": "code",
   "execution_count": 51,
   "metadata": {},
   "outputs": [
    {
     "name": "stdout",
     "output_type": "stream",
     "text": [
      "[ 0  1  2  3  4  5  6  7  8  9 10 11]\n",
      "\n",
      " [[ 0]\n",
      " [ 1]\n",
      " [ 2]\n",
      " [ 3]\n",
      " [ 4]\n",
      " [ 5]\n",
      " [ 6]\n",
      " [ 7]\n",
      " [ 8]\n",
      " [ 9]\n",
      " [10]\n",
      " [11]]\n"
     ]
    }
   ],
   "source": [
    "arr = np.arange(12)\n",
    "print(arr)\n",
    "arr.resize(12,1)\n",
    "print('\\n', arr)\n",
    "\n",
    "# В первом случае выводиться одномерный массив, во втором случае с помощью метода resize получил двумерный массив, двумерный он потому что:\n",
    "# имеет индекс строк и столбцов, так же каждый массив начинается с новой строки в скобках. \n",
    "# Вывод: массив из одного столбца и 12 строк нельзя назвать одномерным. \n"
   ]
  },
  {
   "cell_type": "markdown",
   "metadata": {},
   "source": [
    "Задание № 5"
   ]
  },
  {
   "cell_type": "code",
   "execution_count": 71,
   "metadata": {},
   "outputs": [
    {
     "name": "stdout",
     "output_type": "stream",
     "text": [
      "[[ 0.56321717  1.10406591  0.96799794  1.52207495]\n",
      " [ 1.34568136 -0.37412592 -1.34298384  0.15929558]\n",
      " [ 0.77401721 -0.37018826  0.03700487 -0.72000313]]\n",
      "[ 0.56321717  1.10406591  0.96799794  1.52207495  1.34568136 -0.37412592\n",
      " -1.34298384  0.15929558  0.77401721 -0.37018826  0.03700487 -0.72000313]\n",
      "Размерность b: 2\n",
      "Размерность c: 1\n",
      "Size b: 12\n",
      "Size c: 12\n"
     ]
    }
   ],
   "source": [
    "b = np.random.randn(3, 4)\n",
    "print(b)\n",
    "c = b.flatten()\n",
    "print(c)\n",
    "\n",
    "print(\"Размерность b: {}\".format(b.ndim))\n",
    "print(\"Размерность c: {}\".format(c.ndim))\n",
    "\n",
    "print(\"Size b: {}\".format(b.size))\n",
    "print(\"Size c: {}\".format(c.size))\n",
    "\n"
   ]
  },
  {
   "cell_type": "markdown",
   "metadata": {},
   "source": [
    "Задание № 6"
   ]
  },
  {
   "cell_type": "code",
   "execution_count": 74,
   "metadata": {},
   "outputs": [
    {
     "data": {
      "text/plain": [
       "array([20, 18, 16, 14, 12, 10,  8,  6,  4,  2])"
      ]
     },
     "execution_count": 74,
     "metadata": {},
     "output_type": "execute_result"
    }
   ],
   "source": [
    "a = np.arange(20, 0, -2)\n",
    "a"
   ]
  },
  {
   "cell_type": "markdown",
   "metadata": {},
   "source": [
    "Задание № 7"
   ]
  },
  {
   "cell_type": "code",
   "execution_count": 78,
   "metadata": {},
   "outputs": [
    {
     "data": {
      "text/plain": [
       "array([[20, 18, 16, 14, 12, 10,  8,  6,  4,  2]])"
      ]
     },
     "execution_count": 78,
     "metadata": {},
     "output_type": "execute_result"
    }
   ],
   "source": [
    "b = np.arange(20, 1, -2).reshape(1,10)\n",
    "b\n",
    "\n",
    "# РАзница в том , что масиив a одномерный , а массив b двумерный"
   ]
  },
  {
   "cell_type": "markdown",
   "metadata": {},
   "source": [
    "Задание № 8"
   ]
  },
  {
   "cell_type": "code",
   "execution_count": 95,
   "metadata": {},
   "outputs": [
    {
     "name": "stdout",
     "output_type": "stream",
     "text": [
      "[[0. 0.]\n",
      " [0. 0.]\n",
      " [1. 1.]\n",
      " [1. 1.]\n",
      " [1. 1.]]\n",
      "Size c: 10\n"
     ]
    }
   ],
   "source": [
    "a = np.zeros((2,2))\n",
    "b = np.ones((3,2))\n",
    "\n",
    "c = np.vstack((a, b))\n",
    "print(c)\n",
    "print(\"Size c: {}\".format(c.size))"
   ]
  },
  {
   "cell_type": "markdown",
   "metadata": {},
   "source": [
    "Задание № 9"
   ]
  },
  {
   "cell_type": "code",
   "execution_count": 99,
   "metadata": {},
   "outputs": [
    {
     "data": {
      "text/plain": [
       "array([ 0,  1,  2,  3,  4,  5,  6,  7,  8,  9, 10, 11])"
      ]
     },
     "execution_count": 99,
     "metadata": {},
     "output_type": "execute_result"
    }
   ],
   "source": [
    "a = np.arange(12)\n",
    "a"
   ]
  },
  {
   "cell_type": "code",
   "execution_count": 107,
   "metadata": {},
   "outputs": [
    {
     "name": "stdout",
     "output_type": "stream",
     "text": [
      "[[ 0  1  2]\n",
      " [ 3  4  5]\n",
      " [ 6  7  8]\n",
      " [ 9 10 11]]\n"
     ]
    }
   ],
   "source": [
    "A = a.reshape(4, 3)\n",
    "print(A)\n"
   ]
  },
  {
   "cell_type": "code",
   "execution_count": 108,
   "metadata": {},
   "outputs": [
    {
     "data": {
      "text/plain": [
       "array([[ 0,  3,  6,  9],\n",
       "       [ 1,  4,  7, 10],\n",
       "       [ 2,  5,  8, 11]])"
      ]
     },
     "execution_count": 108,
     "metadata": {},
     "output_type": "execute_result"
    }
   ],
   "source": [
    "At = A.T\n",
    "At"
   ]
  },
  {
   "cell_type": "code",
   "execution_count": 120,
   "metadata": {},
   "outputs": [
    {
     "name": "stdout",
     "output_type": "stream",
     "text": [
      "[[  5  14  23  32]\n",
      " [ 14  50  86 122]\n",
      " [ 23  86 149 212]\n",
      " [ 32 122 212 302]]\n",
      "Размер матрицы B: (4, 4)\n",
      "0.0\n"
     ]
    }
   ],
   "source": [
    "B = A.dot(At)\n",
    "print(B)\n",
    "\n",
    "print(\"Размер матрицы B: {}\".format(B.shape))\n",
    "# она квадратная, значит мы можем посчитать определитель\n",
    "\n",
    "d = np.linalg.det(B)\n",
    "print(d)\n",
    "\n",
    "# Итак, если определитель квадратной матрицы не равен 0, то мы можем посчитать для неё обратную матрицу. \n",
    "# Как мы видим определитель равен 0"
   ]
  },
  {
   "cell_type": "markdown",
   "metadata": {},
   "source": [
    "Задание № 10"
   ]
  },
  {
   "cell_type": "code",
   "execution_count": 121,
   "metadata": {},
   "outputs": [],
   "source": [
    "np.random.seed(42)\n"
   ]
  },
  {
   "cell_type": "code",
   "execution_count": 131,
   "metadata": {},
   "outputs": [
    {
     "data": {
      "text/plain": [
       "array([ 1,  3, 11, 14, 11,  6, 11, 12,  7, 14,  2, 13,  0,  3,  1,  7])"
      ]
     },
     "execution_count": 131,
     "metadata": {},
     "output_type": "execute_result"
    }
   ],
   "source": [
    "# Задание № 11\n",
    "c = np.random.randint(0, 16, 16)\n",
    "c"
   ]
  },
  {
   "cell_type": "markdown",
   "metadata": {},
   "source": [
    "Задание № 12"
   ]
  },
  {
   "cell_type": "code",
   "execution_count": 137,
   "metadata": {},
   "outputs": [
    {
     "name": "stdout",
     "output_type": "stream",
     "text": [
      "[[ 1  3 11 14]\n",
      " [11  6 11 12]\n",
      " [ 7 14  2 13]\n",
      " [ 0  3  1  7]]\n",
      "[[  501  1403  2311  3214]\n",
      " [ 1411  5006  8611 12212]\n",
      " [ 2307  8614 14902 21213]\n",
      " [ 3200 12203 21201 30207]]\n"
     ]
    }
   ],
   "source": [
    "C = c.reshape(4, -1)\n",
    "print(C)\n",
    "\n",
    "D = C + (B * 10)\n",
    "print(D)"
   ]
  },
  {
   "cell_type": "code",
   "execution_count": 163,
   "metadata": {},
   "outputs": [
    {
     "name": "stdout",
     "output_type": "stream",
     "text": [
      "143463784.00003842\n",
      "4\n",
      "[[-0.16667027  0.21877392  0.03494646 -0.09525302]\n",
      " [ 0.16897257 -0.23885499  0.01500189  0.06804993]\n",
      " [ 0.18246979 -0.18343588 -0.12998237  0.146025  ]\n",
      " [-0.17867281  0.20206227  0.08146653 -0.11985565]]\n",
      "True\n",
      "True\n"
     ]
    }
   ],
   "source": [
    "# определитель\n",
    "\n",
    "d = np.linalg.det(D)\n",
    "print(d)\n",
    "\n",
    "# ранг матрицы\n",
    "\n",
    "r = np.linalg.matrix_rank(D)\n",
    "print(r)\n",
    "\n",
    "# обратная матрица\n",
    "\n",
    "D_inv = np.linalg.inv(D)\n",
    "print(D_inv)\n",
    "\n",
    "# проверка\n",
    "print(np.allclose(np.dot(D, D_inv), np.eye(D.shape[0])))\n",
    "\n",
    "print(np.allclose(np.dot(D_inv, D), np.eye(D.shape[0])))"
   ]
  },
  {
   "cell_type": "markdown",
   "metadata": {},
   "source": [
    "Задание № 13"
   ]
  },
  {
   "cell_type": "code",
   "execution_count": 164,
   "metadata": {},
   "outputs": [
    {
     "name": "stdout",
     "output_type": "stream",
     "text": [
      "[[0 1 1 0]\n",
      " [1 0 1 1]\n",
      " [1 0 0 1]\n",
      " [0 1 1 0]]\n"
     ]
    }
   ],
   "source": [
    "D_inv = np.where(D_inv < 0, 0, 1)\n",
    "print(D_inv)\n",
    "\n"
   ]
  },
  {
   "cell_type": "code",
   "execution_count": 173,
   "metadata": {},
   "outputs": [
    {
     "name": "stdout",
     "output_type": "stream",
     "text": [
      "[[  50  140  230  320]\n",
      " [ 140  500  860 1220]\n",
      " [ 230  860 1490 2120]\n",
      " [ 320 1220 2120 3020]]\n",
      "[[ 1  3 11 14]\n",
      " [11  6 11 12]\n",
      " [ 7 14  2 13]\n",
      " [ 0  3  1  7]]\n",
      "\n",
      "[[   1  140  230   14]\n",
      " [ 140    6  860 1220]\n",
      " [ 230   14    2 2120]\n",
      " [   0 1220 2120    7]]\n"
     ]
    }
   ],
   "source": [
    "E = np.where(D_inv, B, C)\n",
    "\n",
    "print(B)\n",
    "print(C)\n",
    "print()\n",
    "print(E)"
   ]
  },
  {
   "cell_type": "code",
   "execution_count": null,
   "metadata": {},
   "outputs": [],
   "source": []
  }
 ],
 "metadata": {
  "kernelspec": {
   "display_name": "Python 3",
   "language": "python",
   "name": "python3"
  },
  "language_info": {
   "codemirror_mode": {
    "name": "ipython",
    "version": 3
   },
   "file_extension": ".py",
   "mimetype": "text/x-python",
   "name": "python",
   "nbconvert_exporter": "python",
   "pygments_lexer": "ipython3",
   "version": "3.8.1"
  }
 },
 "nbformat": 4,
 "nbformat_minor": 4
}
